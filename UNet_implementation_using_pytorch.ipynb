{
  "nbformat": 4,
  "nbformat_minor": 0,
  "metadata": {
    "colab": {
      "provenance": []
    },
    "kernelspec": {
      "name": "python3",
      "display_name": "Python 3"
    },
    "language_info": {
      "name": "python"
    }
  },
  "cells": [
    {
      "cell_type": "code",
      "execution_count": 29,
      "metadata": {
        "id": "IT4tOjtKFNT-"
      },
      "outputs": [],
      "source": [
        "# Change this to match your folder name in Drive\n",
        "#PUT PATH OF UNZIPPED DATASET FOLDER WHICH EXISTS IN DATASET FOLDER ITSELF\n",
        "DATASET_ROOT = \"/content/drive/MyDrive/dataset/dataset\"\n",
        "\n"
      ]
    },
    {
      "cell_type": "code",
      "source": [
        "import os\n",
        "import json\n",
        "import random\n",
        "from PIL import Image\n",
        "import numpy as np\n",
        "import matplotlib.pyplot as plt\n",
        "import torch\n",
        "import torch.nn as nn\n",
        "import torch.optim as optim\n",
        "from torch.utils.data import Dataset, DataLoader\n",
        "import torchvision.transforms as T\n",
        "import torchvision.transforms.functional as TF\n",
        "\n",
        "from tqdm import tqdm\n",
        "import wandb\n"
      ],
      "metadata": {
        "id": "eOsqzAnAWGl5"
      },
      "execution_count": 30,
      "outputs": []
    },
    {
      "cell_type": "code",
      "source": [
        "class PolygonColorDataset(Dataset):\n",
        "    def __init__(self, root_dir, transform=None, augment=False):\n",
        "        self.root_dir = root_dir\n",
        "        self.inputs_dir = os.path.join(root_dir, \"inputs\")\n",
        "        self.outputs_dir = os.path.join(root_dir, \"outputs\")\n",
        "        self.transform = transform\n",
        "        self.augment = augment\n",
        "\n",
        "        # Load mapping file\n",
        "        json_path = os.path.join(root_dir, \"data.json\")\n",
        "        with open(json_path, \"r\") as f:\n",
        "            self.mapping = json.load(f)\n",
        "\n",
        "        # Fixed RGB color mapping (0-1 range for tensors)\n",
        "        self.color_map = {\n",
        "            \"red\": [1.0, 0.0, 0.0],\n",
        "            \"green\": [0.0, 1.0, 0.0],\n",
        "            \"blue\": [0.0, 0.0, 1.0],\n",
        "            \"yellow\": [1.0, 1.0, 0.0],\n",
        "            \"cyan\": [0.0, 1.0, 1.0],\n",
        "            \"magenta\": [1.0, 0.0, 1.0],\n",
        "            \"purple\": [0.5, 0.0, 0.5],\n",
        "            \"orange\": [1.0, 0.5, 0.0]\n",
        "        }\n",
        "\n",
        "    def __len__(self):\n",
        "        return len(self.mapping)\n",
        "\n",
        "    def __getitem__(self, idx):\n",
        "        item = self.mapping[idx]\n",
        "\n",
        "        # Load polygon input and target output image\n",
        "        input_img = Image.open(os.path.join(self.inputs_dir, item[\"input_polygon\"])).convert(\"RGB\").copy()\n",
        "        target_img = Image.open(os.path.join(self.outputs_dir, item[\"output_image\"])).convert(\"RGB\").copy()\n",
        "\n",
        "        # Create binary mask from input polygon\n",
        "        mask_img = input_img.convert(\"L\")  # grayscale\n",
        "        mask_tensor = TF.to_tensor(mask_img)\n",
        "        mask_tensor = torch.where(mask_tensor > 0.5, 1.0, 0.0)  # binary mask\n",
        "\n",
        "        # Paired augmentations\n",
        "        if self.augment:\n",
        "            if random.random() > 0.5:\n",
        "                input_img = TF.hflip(input_img)\n",
        "                target_img = TF.hflip(target_img)\n",
        "                mask_tensor = TF.hflip(mask_tensor)\n",
        "            if random.random() > 0.5:\n",
        "                input_img = TF.vflip(input_img)\n",
        "                target_img = TF.vflip(target_img)\n",
        "                mask_tensor = TF.vflip(mask_tensor)\n",
        "            if random.random() > 0.5:\n",
        "                angle = random.choice([90, 180, 270])\n",
        "                input_img = TF.rotate(input_img, angle)\n",
        "                target_img = TF.rotate(target_img, angle)\n",
        "                mask_tensor = TF.rotate(mask_tensor, angle)\n",
        "\n",
        "        # Transform input and output (e.g., Resize, Normalize)\n",
        "        if self.transform:\n",
        "            input_img = self.transform(input_img)\n",
        "            target_img = self.transform(target_img)\n",
        "\n",
        "        # Generate color RGB tensor\n",
        "        color_name = item[\"colour\"].lower()\n",
        "        color_rgb = torch.tensor(self.color_map[color_name], dtype=torch.float32)  # shape: (3,)\n",
        "        color_img = color_rgb.view(3, 1, 1).expand(3, input_img.shape[1], input_img.shape[2])  # shape: (3, H, W)\n",
        "\n",
        "        # Combine original image with color image to make 6-channel input\n",
        "        combined_input = torch.cat([input_img, color_img], dim=0)\n",
        "\n",
        "        return combined_input, mask_tensor, target_img\n"
      ],
      "metadata": {
        "id": "ai_0fOrHWItZ"
      },
      "execution_count": 31,
      "outputs": []
    },
    {
      "cell_type": "code",
      "source": [
        "class DoubleConv(nn.Module):\n",
        "    def __init__(self, in_channels, out_channels):\n",
        "        super(DoubleConv, self).__init__()\n",
        "        self.conv = nn.Sequential(\n",
        "            nn.Conv2d(in_channels, out_channels, 3, padding=1, bias=False),\n",
        "            nn.BatchNorm2d(out_channels),\n",
        "            nn.ReLU(inplace=True),\n",
        "            nn.Conv2d(out_channels, out_channels, 3, padding=1, bias=False),\n",
        "            nn.BatchNorm2d(out_channels),\n",
        "            nn.ReLU(inplace=True)\n",
        "        )\n",
        "\n",
        "    def forward(self, x):\n",
        "        return self.conv(x)\n",
        "\n",
        "class UNet(nn.Module):\n",
        "    def __init__(self, in_channels=6, out_channels=3, features=[64, 128, 256, 512]):\n",
        "        super(UNet, self).__init__()\n",
        "        self.downs = nn.ModuleList()\n",
        "        self.ups = nn.ModuleList()\n",
        "        self.pool = nn.MaxPool2d(2)\n",
        "\n",
        "        for feature in features:\n",
        "            self.downs.append(DoubleConv(in_channels, feature))\n",
        "            in_channels = feature\n",
        "\n",
        "        self.bottleneck = DoubleConv(features[-1], features[-1] * 2)\n",
        "\n",
        "        for feature in reversed(features):\n",
        "            self.ups.append(nn.ConvTranspose2d(feature * 2, feature, kernel_size=2, stride=2))\n",
        "            self.ups.append(DoubleConv(feature * 2, feature))\n",
        "\n",
        "        self.final_conv = nn.Conv2d(features[0], out_channels, kernel_size=1)\n",
        "        self.sigmoid = nn.Sigmoid()\n",
        "\n",
        "    def forward(self, x):\n",
        "        skip_connections = []\n",
        "        for down in self.downs:\n",
        "            x = down(x)\n",
        "            skip_connections.append(x)\n",
        "            x = self.pool(x)\n",
        "\n",
        "        x = self.bottleneck(x)\n",
        "        skip_connections = skip_connections[::-1]\n",
        "\n",
        "        for idx in range(0, len(self.ups), 2):\n",
        "            x = self.ups[idx](x)\n",
        "            skip_connection = skip_connections[idx // 2]\n",
        "            if x.shape != skip_connection.shape:\n",
        "                x = nn.functional.interpolate(x, size=skip_connection.shape[2:])\n",
        "            x = self.ups[idx + 1](torch.cat((skip_connection, x), dim=1))\n",
        "\n",
        "        return self.sigmoid(self.final_conv(x))\n"
      ],
      "metadata": {
        "id": "54WCHNBCWIq0"
      },
      "execution_count": 32,
      "outputs": []
    },
    {
      "cell_type": "code",
      "source": [
        "def train_model(model, train_loader, val_loader, device, epochs=50):\n",
        "    wandb.init(project=\"polygon-coloring\")\n",
        "\n",
        "    optimizer = optim.Adam(model.parameters(), lr=1e-4)\n",
        "    scheduler = optim.lr_scheduler.ReduceLROnPlateau(optimizer, mode=\"min\", factor=0.5, patience=3)\n",
        "\n",
        "    for epoch in range(epochs):\n",
        "        model.train()\n",
        "        train_loss = 0.0\n",
        "\n",
        "        for inputs, masks, targets in tqdm(train_loader, desc=f\"Epoch {epoch+1}/{epochs}\"):\n",
        "            inputs, masks, targets = inputs.to(device), masks.to(device), targets.to(device)\n",
        "\n",
        "            optimizer.zero_grad()\n",
        "            outputs = model(inputs)\n",
        "\n",
        "            # Ensure mask has same shape as outputs\n",
        "            if masks.ndim == 3:  # [B, H, W]\n",
        "                masks = masks.unsqueeze(1)  # [B, 1, H, W]\n",
        "            masks = masks.expand_as(outputs)  # [B, 3, H, W]\n",
        "\n",
        "            # Masked L1 loss: only compute inside shape\n",
        "            loss = torch.mean(torch.abs(outputs - targets) * masks)\n",
        "\n",
        "            loss.backward()\n",
        "            optimizer.step()\n",
        "\n",
        "            train_loss += loss.item() * inputs.size(0)\n",
        "\n",
        "        avg_train_loss = train_loss / len(train_loader.dataset)\n",
        "\n",
        "        # Validation\n",
        "        model.eval()\n",
        "        val_loss = 0.0\n",
        "        with torch.no_grad():\n",
        "            for inputs, masks, targets in val_loader:\n",
        "                inputs, masks, targets = inputs.to(device), masks.to(device), targets.to(device)\n",
        "\n",
        "                outputs = model(inputs)\n",
        "                if masks.ndim == 3:\n",
        "                    masks = masks.unsqueeze(1)\n",
        "                masks = masks.expand_as(outputs)\n",
        "\n",
        "                loss = torch.mean(torch.abs(outputs - targets) * masks)\n",
        "                val_loss += loss.item() * inputs.size(0)\n",
        "\n",
        "        avg_val_loss = val_loss / len(val_loader.dataset)\n",
        "        scheduler.step(avg_val_loss)\n",
        "\n",
        "        wandb.log({\"Train Loss\": avg_train_loss, \"Validation Loss\": avg_val_loss})\n",
        "        print(f\"Epoch {epoch+1}: Train Loss={avg_train_loss:.4f}, Val Loss={avg_val_loss:.4f}\")\n",
        "\n",
        "    wandb.finish()\n"
      ],
      "metadata": {
        "id": "GjtJOAMXWIoJ"
      },
      "execution_count": 33,
      "outputs": []
    },
    {
      "cell_type": "code",
      "source": [
        "device = torch.device(\"cuda\" if torch.cuda.is_available() else \"cpu\")\n",
        "\n",
        "transform = T.Compose([\n",
        "    T.Resize((128, 128)),\n",
        "    T.ToTensor()\n",
        "])\n",
        "\n",
        "train_dataset = PolygonColorDataset(f\"{DATASET_ROOT}/training\", transform=transform, augment=True)\n",
        "val_dataset = PolygonColorDataset(f\"{DATASET_ROOT}/validation\", transform=transform, augment=False)\n",
        "\n",
        "train_loader = DataLoader(train_dataset, batch_size=8, shuffle=True, num_workers=2)\n",
        "val_loader = DataLoader(val_dataset, batch_size=8, shuffle=False, num_workers=2)\n",
        "\n",
        "model = UNet(in_channels=6, out_channels=3).to(device)\n",
        "train_model(model, train_loader, val_loader, device, epochs=50)\n"
      ],
      "metadata": {
        "colab": {
          "base_uri": "https://localhost:8080/",
          "height": 1000
        },
        "id": "DsIU-g61WIlJ",
        "outputId": "5fa661df-f01d-452d-c9d6-db593e35ce9b"
      },
      "execution_count": 34,
      "outputs": [
        {
          "output_type": "display_data",
          "data": {
            "text/plain": [
              "<IPython.core.display.HTML object>"
            ],
            "text/html": [
              "Tracking run with wandb version 0.21.0"
            ]
          },
          "metadata": {}
        },
        {
          "output_type": "display_data",
          "data": {
            "text/plain": [
              "<IPython.core.display.HTML object>"
            ],
            "text/html": [
              "Run data is saved locally in <code>/content/wandb/run-20250805_080502-9wuudan2</code>"
            ]
          },
          "metadata": {}
        },
        {
          "output_type": "display_data",
          "data": {
            "text/plain": [
              "<IPython.core.display.HTML object>"
            ],
            "text/html": [
              "Syncing run <strong><a href='https://wandb.ai/lavkesh1709-maulana-azad-national-institute-of-technolog/polygon-coloring/runs/9wuudan2' target=\"_blank\">sage-tree-8</a></strong> to <a href='https://wandb.ai/lavkesh1709-maulana-azad-national-institute-of-technolog/polygon-coloring' target=\"_blank\">Weights & Biases</a> (<a href='https://wandb.me/developer-guide' target=\"_blank\">docs</a>)<br>"
            ]
          },
          "metadata": {}
        },
        {
          "output_type": "display_data",
          "data": {
            "text/plain": [
              "<IPython.core.display.HTML object>"
            ],
            "text/html": [
              " View project at <a href='https://wandb.ai/lavkesh1709-maulana-azad-national-institute-of-technolog/polygon-coloring' target=\"_blank\">https://wandb.ai/lavkesh1709-maulana-azad-national-institute-of-technolog/polygon-coloring</a>"
            ]
          },
          "metadata": {}
        },
        {
          "output_type": "display_data",
          "data": {
            "text/plain": [
              "<IPython.core.display.HTML object>"
            ],
            "text/html": [
              " View run at <a href='https://wandb.ai/lavkesh1709-maulana-azad-national-institute-of-technolog/polygon-coloring/runs/9wuudan2' target=\"_blank\">https://wandb.ai/lavkesh1709-maulana-azad-national-institute-of-technolog/polygon-coloring/runs/9wuudan2</a>"
            ]
          },
          "metadata": {}
        },
        {
          "output_type": "stream",
          "name": "stderr",
          "text": [
            "Epoch 1/50: 100%|██████████| 7/7 [00:01<00:00,  6.27it/s]\n"
          ]
        },
        {
          "output_type": "stream",
          "name": "stdout",
          "text": [
            "Epoch 1: Train Loss=0.4378, Val Loss=0.4720\n"
          ]
        },
        {
          "output_type": "stream",
          "name": "stderr",
          "text": [
            "Epoch 2/50: 100%|██████████| 7/7 [00:01<00:00,  6.44it/s]\n"
          ]
        },
        {
          "output_type": "stream",
          "name": "stdout",
          "text": [
            "Epoch 2: Train Loss=0.4020, Val Loss=0.4555\n"
          ]
        },
        {
          "output_type": "stream",
          "name": "stderr",
          "text": [
            "Epoch 3/50: 100%|██████████| 7/7 [00:01<00:00,  6.26it/s]\n"
          ]
        },
        {
          "output_type": "stream",
          "name": "stdout",
          "text": [
            "Epoch 3: Train Loss=0.3740, Val Loss=0.4275\n"
          ]
        },
        {
          "output_type": "stream",
          "name": "stderr",
          "text": [
            "Epoch 4/50: 100%|██████████| 7/7 [00:01<00:00,  6.44it/s]\n"
          ]
        },
        {
          "output_type": "stream",
          "name": "stdout",
          "text": [
            "Epoch 4: Train Loss=0.3486, Val Loss=0.3952\n"
          ]
        },
        {
          "output_type": "stream",
          "name": "stderr",
          "text": [
            "Epoch 5/50: 100%|██████████| 7/7 [00:01<00:00,  5.45it/s]\n"
          ]
        },
        {
          "output_type": "stream",
          "name": "stdout",
          "text": [
            "Epoch 5: Train Loss=0.3338, Val Loss=0.3654\n"
          ]
        },
        {
          "output_type": "stream",
          "name": "stderr",
          "text": [
            "Epoch 6/50: 100%|██████████| 7/7 [00:01<00:00,  5.44it/s]\n"
          ]
        },
        {
          "output_type": "stream",
          "name": "stdout",
          "text": [
            "Epoch 6: Train Loss=0.3183, Val Loss=0.3318\n"
          ]
        },
        {
          "output_type": "stream",
          "name": "stderr",
          "text": [
            "Epoch 7/50: 100%|██████████| 7/7 [00:01<00:00,  5.92it/s]\n"
          ]
        },
        {
          "output_type": "stream",
          "name": "stdout",
          "text": [
            "Epoch 7: Train Loss=0.3140, Val Loss=0.3085\n"
          ]
        },
        {
          "output_type": "stream",
          "name": "stderr",
          "text": [
            "Epoch 8/50: 100%|██████████| 7/7 [00:01<00:00,  6.46it/s]\n"
          ]
        },
        {
          "output_type": "stream",
          "name": "stdout",
          "text": [
            "Epoch 8: Train Loss=0.2994, Val Loss=0.2996\n"
          ]
        },
        {
          "output_type": "stream",
          "name": "stderr",
          "text": [
            "Epoch 9/50: 100%|██████████| 7/7 [00:01<00:00,  6.44it/s]\n"
          ]
        },
        {
          "output_type": "stream",
          "name": "stdout",
          "text": [
            "Epoch 9: Train Loss=0.2967, Val Loss=0.2937\n"
          ]
        },
        {
          "output_type": "stream",
          "name": "stderr",
          "text": [
            "Epoch 10/50: 100%|██████████| 7/7 [00:01<00:00,  6.35it/s]\n"
          ]
        },
        {
          "output_type": "stream",
          "name": "stdout",
          "text": [
            "Epoch 10: Train Loss=0.2877, Val Loss=0.2859\n"
          ]
        },
        {
          "output_type": "stream",
          "name": "stderr",
          "text": [
            "Epoch 11/50: 100%|██████████| 7/7 [00:01<00:00,  6.25it/s]\n"
          ]
        },
        {
          "output_type": "stream",
          "name": "stdout",
          "text": [
            "Epoch 11: Train Loss=0.2827, Val Loss=0.2927\n"
          ]
        },
        {
          "output_type": "stream",
          "name": "stderr",
          "text": [
            "Epoch 12/50: 100%|██████████| 7/7 [00:01<00:00,  5.87it/s]\n"
          ]
        },
        {
          "output_type": "stream",
          "name": "stdout",
          "text": [
            "Epoch 12: Train Loss=0.2776, Val Loss=0.2871\n"
          ]
        },
        {
          "output_type": "stream",
          "name": "stderr",
          "text": [
            "Epoch 13/50: 100%|██████████| 7/7 [00:01<00:00,  5.78it/s]\n"
          ]
        },
        {
          "output_type": "stream",
          "name": "stdout",
          "text": [
            "Epoch 13: Train Loss=0.2728, Val Loss=0.2704\n"
          ]
        },
        {
          "output_type": "stream",
          "name": "stderr",
          "text": [
            "Epoch 14/50: 100%|██████████| 7/7 [00:01<00:00,  6.44it/s]\n"
          ]
        },
        {
          "output_type": "stream",
          "name": "stdout",
          "text": [
            "Epoch 14: Train Loss=0.2656, Val Loss=0.2651\n"
          ]
        },
        {
          "output_type": "stream",
          "name": "stderr",
          "text": [
            "Epoch 15/50: 100%|██████████| 7/7 [00:01<00:00,  6.23it/s]\n"
          ]
        },
        {
          "output_type": "stream",
          "name": "stdout",
          "text": [
            "Epoch 15: Train Loss=0.2612, Val Loss=0.2571\n"
          ]
        },
        {
          "output_type": "stream",
          "name": "stderr",
          "text": [
            "Epoch 16/50: 100%|██████████| 7/7 [00:01<00:00,  5.64it/s]\n"
          ]
        },
        {
          "output_type": "stream",
          "name": "stdout",
          "text": [
            "Epoch 16: Train Loss=0.2599, Val Loss=0.2554\n"
          ]
        },
        {
          "output_type": "stream",
          "name": "stderr",
          "text": [
            "Epoch 17/50: 100%|██████████| 7/7 [00:01<00:00,  5.41it/s]\n"
          ]
        },
        {
          "output_type": "stream",
          "name": "stdout",
          "text": [
            "Epoch 17: Train Loss=0.2659, Val Loss=0.2498\n"
          ]
        },
        {
          "output_type": "stream",
          "name": "stderr",
          "text": [
            "Epoch 18/50: 100%|██████████| 7/7 [00:01<00:00,  6.05it/s]\n"
          ]
        },
        {
          "output_type": "stream",
          "name": "stdout",
          "text": [
            "Epoch 18: Train Loss=0.2514, Val Loss=0.2504\n"
          ]
        },
        {
          "output_type": "stream",
          "name": "stderr",
          "text": [
            "Epoch 19/50: 100%|██████████| 7/7 [00:01<00:00,  6.28it/s]\n"
          ]
        },
        {
          "output_type": "stream",
          "name": "stdout",
          "text": [
            "Epoch 19: Train Loss=0.2461, Val Loss=0.2522\n"
          ]
        },
        {
          "output_type": "stream",
          "name": "stderr",
          "text": [
            "Epoch 20/50: 100%|██████████| 7/7 [00:01<00:00,  6.37it/s]\n"
          ]
        },
        {
          "output_type": "stream",
          "name": "stdout",
          "text": [
            "Epoch 20: Train Loss=0.2448, Val Loss=0.2455\n"
          ]
        },
        {
          "output_type": "stream",
          "name": "stderr",
          "text": [
            "Epoch 21/50: 100%|██████████| 7/7 [00:01<00:00,  6.37it/s]\n"
          ]
        },
        {
          "output_type": "stream",
          "name": "stdout",
          "text": [
            "Epoch 21: Train Loss=0.2400, Val Loss=0.2386\n"
          ]
        },
        {
          "output_type": "stream",
          "name": "stderr",
          "text": [
            "Epoch 22/50: 100%|██████████| 7/7 [00:01<00:00,  6.43it/s]\n"
          ]
        },
        {
          "output_type": "stream",
          "name": "stdout",
          "text": [
            "Epoch 22: Train Loss=0.2383, Val Loss=0.2364\n"
          ]
        },
        {
          "output_type": "stream",
          "name": "stderr",
          "text": [
            "Epoch 23/50: 100%|██████████| 7/7 [00:01<00:00,  6.23it/s]\n"
          ]
        },
        {
          "output_type": "stream",
          "name": "stdout",
          "text": [
            "Epoch 23: Train Loss=0.2342, Val Loss=0.2299\n"
          ]
        },
        {
          "output_type": "stream",
          "name": "stderr",
          "text": [
            "Epoch 24/50: 100%|██████████| 7/7 [00:01<00:00,  6.41it/s]\n"
          ]
        },
        {
          "output_type": "stream",
          "name": "stdout",
          "text": [
            "Epoch 24: Train Loss=0.2294, Val Loss=0.2342\n"
          ]
        },
        {
          "output_type": "stream",
          "name": "stderr",
          "text": [
            "Epoch 25/50: 100%|██████████| 7/7 [00:01<00:00,  6.23it/s]\n"
          ]
        },
        {
          "output_type": "stream",
          "name": "stdout",
          "text": [
            "Epoch 25: Train Loss=0.2311, Val Loss=0.2401\n"
          ]
        },
        {
          "output_type": "stream",
          "name": "stderr",
          "text": [
            "Epoch 26/50: 100%|██████████| 7/7 [00:01<00:00,  6.21it/s]\n"
          ]
        },
        {
          "output_type": "stream",
          "name": "stdout",
          "text": [
            "Epoch 26: Train Loss=0.2285, Val Loss=0.2316\n"
          ]
        },
        {
          "output_type": "stream",
          "name": "stderr",
          "text": [
            "Epoch 27/50: 100%|██████████| 7/7 [00:01<00:00,  5.71it/s]\n"
          ]
        },
        {
          "output_type": "stream",
          "name": "stdout",
          "text": [
            "Epoch 27: Train Loss=0.2216, Val Loss=0.2289\n"
          ]
        },
        {
          "output_type": "stream",
          "name": "stderr",
          "text": [
            "Epoch 28/50: 100%|██████████| 7/7 [00:01<00:00,  5.42it/s]\n"
          ]
        },
        {
          "output_type": "stream",
          "name": "stdout",
          "text": [
            "Epoch 28: Train Loss=0.2218, Val Loss=0.2177\n"
          ]
        },
        {
          "output_type": "stream",
          "name": "stderr",
          "text": [
            "Epoch 29/50: 100%|██████████| 7/7 [00:01<00:00,  6.26it/s]\n"
          ]
        },
        {
          "output_type": "stream",
          "name": "stdout",
          "text": [
            "Epoch 29: Train Loss=0.2198, Val Loss=0.2187\n"
          ]
        },
        {
          "output_type": "stream",
          "name": "stderr",
          "text": [
            "Epoch 30/50: 100%|██████████| 7/7 [00:01<00:00,  6.35it/s]\n"
          ]
        },
        {
          "output_type": "stream",
          "name": "stdout",
          "text": [
            "Epoch 30: Train Loss=0.2136, Val Loss=0.2257\n"
          ]
        },
        {
          "output_type": "stream",
          "name": "stderr",
          "text": [
            "Epoch 31/50: 100%|██████████| 7/7 [00:01<00:00,  6.39it/s]\n"
          ]
        },
        {
          "output_type": "stream",
          "name": "stdout",
          "text": [
            "Epoch 31: Train Loss=0.2095, Val Loss=0.2177\n"
          ]
        },
        {
          "output_type": "stream",
          "name": "stderr",
          "text": [
            "Epoch 32/50: 100%|██████████| 7/7 [00:01<00:00,  6.43it/s]\n"
          ]
        },
        {
          "output_type": "stream",
          "name": "stdout",
          "text": [
            "Epoch 32: Train Loss=0.2065, Val Loss=0.2055\n"
          ]
        },
        {
          "output_type": "stream",
          "name": "stderr",
          "text": [
            "Epoch 33/50: 100%|██████████| 7/7 [00:01<00:00,  6.38it/s]\n"
          ]
        },
        {
          "output_type": "stream",
          "name": "stdout",
          "text": [
            "Epoch 33: Train Loss=0.2021, Val Loss=0.2063\n"
          ]
        },
        {
          "output_type": "stream",
          "name": "stderr",
          "text": [
            "Epoch 34/50: 100%|██████████| 7/7 [00:01<00:00,  6.45it/s]\n"
          ]
        },
        {
          "output_type": "stream",
          "name": "stdout",
          "text": [
            "Epoch 34: Train Loss=0.2019, Val Loss=0.2475\n"
          ]
        },
        {
          "output_type": "stream",
          "name": "stderr",
          "text": [
            "Epoch 35/50: 100%|██████████| 7/7 [00:01<00:00,  6.37it/s]\n"
          ]
        },
        {
          "output_type": "stream",
          "name": "stdout",
          "text": [
            "Epoch 35: Train Loss=0.2011, Val Loss=0.2113\n"
          ]
        },
        {
          "output_type": "stream",
          "name": "stderr",
          "text": [
            "Epoch 36/50: 100%|██████████| 7/7 [00:01<00:00,  6.33it/s]\n"
          ]
        },
        {
          "output_type": "stream",
          "name": "stdout",
          "text": [
            "Epoch 36: Train Loss=0.1941, Val Loss=0.2106\n"
          ]
        },
        {
          "output_type": "stream",
          "name": "stderr",
          "text": [
            "Epoch 37/50: 100%|██████████| 7/7 [00:01<00:00,  5.94it/s]\n"
          ]
        },
        {
          "output_type": "stream",
          "name": "stdout",
          "text": [
            "Epoch 37: Train Loss=0.1973, Val Loss=0.2043\n"
          ]
        },
        {
          "output_type": "stream",
          "name": "stderr",
          "text": [
            "Epoch 38/50: 100%|██████████| 7/7 [00:01<00:00,  5.81it/s]\n"
          ]
        },
        {
          "output_type": "stream",
          "name": "stdout",
          "text": [
            "Epoch 38: Train Loss=0.1931, Val Loss=0.1947\n"
          ]
        },
        {
          "output_type": "stream",
          "name": "stderr",
          "text": [
            "Epoch 39/50: 100%|██████████| 7/7 [00:01<00:00,  5.53it/s]\n"
          ]
        },
        {
          "output_type": "stream",
          "name": "stdout",
          "text": [
            "Epoch 39: Train Loss=0.1864, Val Loss=0.1928\n"
          ]
        },
        {
          "output_type": "stream",
          "name": "stderr",
          "text": [
            "Epoch 40/50: 100%|██████████| 7/7 [00:01<00:00,  6.05it/s]\n"
          ]
        },
        {
          "output_type": "stream",
          "name": "stdout",
          "text": [
            "Epoch 40: Train Loss=0.1888, Val Loss=0.1907\n"
          ]
        },
        {
          "output_type": "stream",
          "name": "stderr",
          "text": [
            "Epoch 41/50: 100%|██████████| 7/7 [00:01<00:00,  6.51it/s]\n"
          ]
        },
        {
          "output_type": "stream",
          "name": "stdout",
          "text": [
            "Epoch 41: Train Loss=0.1893, Val Loss=0.1904\n"
          ]
        },
        {
          "output_type": "stream",
          "name": "stderr",
          "text": [
            "Epoch 42/50: 100%|██████████| 7/7 [00:01<00:00,  6.43it/s]\n"
          ]
        },
        {
          "output_type": "stream",
          "name": "stdout",
          "text": [
            "Epoch 42: Train Loss=0.1852, Val Loss=0.1921\n"
          ]
        },
        {
          "output_type": "stream",
          "name": "stderr",
          "text": [
            "Epoch 43/50: 100%|██████████| 7/7 [00:01<00:00,  6.52it/s]\n"
          ]
        },
        {
          "output_type": "stream",
          "name": "stdout",
          "text": [
            "Epoch 43: Train Loss=0.1841, Val Loss=0.1897\n"
          ]
        },
        {
          "output_type": "stream",
          "name": "stderr",
          "text": [
            "Epoch 44/50: 100%|██████████| 7/7 [00:01<00:00,  6.49it/s]\n"
          ]
        },
        {
          "output_type": "stream",
          "name": "stdout",
          "text": [
            "Epoch 44: Train Loss=0.1852, Val Loss=0.1883\n"
          ]
        },
        {
          "output_type": "stream",
          "name": "stderr",
          "text": [
            "Epoch 45/50: 100%|██████████| 7/7 [00:01<00:00,  6.46it/s]\n"
          ]
        },
        {
          "output_type": "stream",
          "name": "stdout",
          "text": [
            "Epoch 45: Train Loss=0.1838, Val Loss=0.1867\n"
          ]
        },
        {
          "output_type": "stream",
          "name": "stderr",
          "text": [
            "Epoch 46/50: 100%|██████████| 7/7 [00:01<00:00,  6.51it/s]\n"
          ]
        },
        {
          "output_type": "stream",
          "name": "stdout",
          "text": [
            "Epoch 46: Train Loss=0.1779, Val Loss=0.1820\n"
          ]
        },
        {
          "output_type": "stream",
          "name": "stderr",
          "text": [
            "Epoch 47/50: 100%|██████████| 7/7 [00:01<00:00,  6.47it/s]\n"
          ]
        },
        {
          "output_type": "stream",
          "name": "stdout",
          "text": [
            "Epoch 47: Train Loss=0.1792, Val Loss=0.1781\n"
          ]
        },
        {
          "output_type": "stream",
          "name": "stderr",
          "text": [
            "Epoch 48/50: 100%|██████████| 7/7 [00:01<00:00,  6.32it/s]\n"
          ]
        },
        {
          "output_type": "stream",
          "name": "stdout",
          "text": [
            "Epoch 48: Train Loss=0.1757, Val Loss=0.1770\n"
          ]
        },
        {
          "output_type": "stream",
          "name": "stderr",
          "text": [
            "Epoch 49/50: 100%|██████████| 7/7 [00:01<00:00,  5.69it/s]\n"
          ]
        },
        {
          "output_type": "stream",
          "name": "stdout",
          "text": [
            "Epoch 49: Train Loss=0.1769, Val Loss=0.1780\n"
          ]
        },
        {
          "output_type": "stream",
          "name": "stderr",
          "text": [
            "Epoch 50/50: 100%|██████████| 7/7 [00:01<00:00,  5.49it/s]\n"
          ]
        },
        {
          "output_type": "stream",
          "name": "stdout",
          "text": [
            "Epoch 50: Train Loss=0.1748, Val Loss=0.1808\n"
          ]
        },
        {
          "output_type": "display_data",
          "data": {
            "text/plain": [
              "<IPython.core.display.HTML object>"
            ],
            "text/html": []
          },
          "metadata": {}
        },
        {
          "output_type": "display_data",
          "data": {
            "text/plain": [
              "<IPython.core.display.HTML object>"
            ],
            "text/html": [
              "<br>    <style><br>        .wandb-row {<br>            display: flex;<br>            flex-direction: row;<br>            flex-wrap: wrap;<br>            justify-content: flex-start;<br>            width: 100%;<br>        }<br>        .wandb-col {<br>            display: flex;<br>            flex-direction: column;<br>            flex-basis: 100%;<br>            flex: 1;<br>            padding: 10px;<br>        }<br>    </style><br><div class=\"wandb-row\"><div class=\"wandb-col\"><h3>Run history:</h3><br/><table class=\"wandb\"><tr><td>Train Loss</td><td>█▇▆▆▅▅▄▄▄▄▃▃▃▃▃▃▃▃▃▂▂▂▂▂▂▂▂▂▂▂▁▁▁▁▁▁▁▁▁▁</td></tr><tr><td>Validation Loss</td><td>██▆▅▅▄▄▄▄▄▃▃▃▃▃▃▂▂▂▂▂▂▂▂▂▂▂▃▂▂▁▁▁▁▁▁▁▁▁▁</td></tr></table><br/></div><div class=\"wandb-col\"><h3>Run summary:</h3><br/><table class=\"wandb\"><tr><td>Train Loss</td><td>0.17476</td></tr><tr><td>Validation Loss</td><td>0.18083</td></tr></table><br/></div></div>"
            ]
          },
          "metadata": {}
        },
        {
          "output_type": "display_data",
          "data": {
            "text/plain": [
              "<IPython.core.display.HTML object>"
            ],
            "text/html": [
              " View run <strong style=\"color:#cdcd00\">sage-tree-8</strong> at: <a href='https://wandb.ai/lavkesh1709-maulana-azad-national-institute-of-technolog/polygon-coloring/runs/9wuudan2' target=\"_blank\">https://wandb.ai/lavkesh1709-maulana-azad-national-institute-of-technolog/polygon-coloring/runs/9wuudan2</a><br> View project at: <a href='https://wandb.ai/lavkesh1709-maulana-azad-national-institute-of-technolog/polygon-coloring' target=\"_blank\">https://wandb.ai/lavkesh1709-maulana-azad-national-institute-of-technolog/polygon-coloring</a><br>Synced 5 W&B file(s), 0 media file(s), 0 artifact file(s) and 0 other file(s)"
            ]
          },
          "metadata": {}
        },
        {
          "output_type": "display_data",
          "data": {
            "text/plain": [
              "<IPython.core.display.HTML object>"
            ],
            "text/html": [
              "Find logs at: <code>./wandb/run-20250805_080502-9wuudan2/logs</code>"
            ]
          },
          "metadata": {}
        }
      ]
    },
    {
      "cell_type": "code",
      "source": [
        "\n",
        "# 1. Start a W&B run\n",
        "wandb.init(project=\"polygon-coloring\", name=\"final_model_upload\")\n",
        "\n",
        "# 3. Create and log artifact\n",
        "artifact = wandb.Artifact(\"unet_polygon_color\", type=\"model\")\n",
        "wandb.log_artifact(artifact)\n",
        "\n",
        "# 4. End run\n",
        "wandb.finish()\n"
      ],
      "metadata": {
        "id": "m4ZtW09dfIf6",
        "colab": {
          "base_uri": "https://localhost:8080/",
          "height": 173
        },
        "outputId": "854190ed-3b3e-4846-a937-680d5d9bd2d4"
      },
      "execution_count": 35,
      "outputs": [
        {
          "output_type": "display_data",
          "data": {
            "text/plain": [
              "<IPython.core.display.HTML object>"
            ],
            "text/html": [
              "Tracking run with wandb version 0.21.0"
            ]
          },
          "metadata": {}
        },
        {
          "output_type": "display_data",
          "data": {
            "text/plain": [
              "<IPython.core.display.HTML object>"
            ],
            "text/html": [
              "Run data is saved locally in <code>/content/wandb/run-20250805_080843-y52tw9yd</code>"
            ]
          },
          "metadata": {}
        },
        {
          "output_type": "display_data",
          "data": {
            "text/plain": [
              "<IPython.core.display.HTML object>"
            ],
            "text/html": [
              "Syncing run <strong><a href='https://wandb.ai/lavkesh1709-maulana-azad-national-institute-of-technolog/polygon-coloring/runs/y52tw9yd' target=\"_blank\">final_model_upload</a></strong> to <a href='https://wandb.ai/lavkesh1709-maulana-azad-national-institute-of-technolog/polygon-coloring' target=\"_blank\">Weights & Biases</a> (<a href='https://wandb.me/developer-guide' target=\"_blank\">docs</a>)<br>"
            ]
          },
          "metadata": {}
        },
        {
          "output_type": "display_data",
          "data": {
            "text/plain": [
              "<IPython.core.display.HTML object>"
            ],
            "text/html": [
              " View project at <a href='https://wandb.ai/lavkesh1709-maulana-azad-national-institute-of-technolog/polygon-coloring' target=\"_blank\">https://wandb.ai/lavkesh1709-maulana-azad-national-institute-of-technolog/polygon-coloring</a>"
            ]
          },
          "metadata": {}
        },
        {
          "output_type": "display_data",
          "data": {
            "text/plain": [
              "<IPython.core.display.HTML object>"
            ],
            "text/html": [
              " View run at <a href='https://wandb.ai/lavkesh1709-maulana-azad-national-institute-of-technolog/polygon-coloring/runs/y52tw9yd' target=\"_blank\">https://wandb.ai/lavkesh1709-maulana-azad-national-institute-of-technolog/polygon-coloring/runs/y52tw9yd</a>"
            ]
          },
          "metadata": {}
        },
        {
          "output_type": "display_data",
          "data": {
            "text/plain": [
              "<IPython.core.display.HTML object>"
            ],
            "text/html": []
          },
          "metadata": {}
        },
        {
          "output_type": "display_data",
          "data": {
            "text/plain": [
              "<IPython.core.display.HTML object>"
            ],
            "text/html": [
              " View run <strong style=\"color:#cdcd00\">final_model_upload</strong> at: <a href='https://wandb.ai/lavkesh1709-maulana-azad-national-institute-of-technolog/polygon-coloring/runs/y52tw9yd' target=\"_blank\">https://wandb.ai/lavkesh1709-maulana-azad-national-institute-of-technolog/polygon-coloring/runs/y52tw9yd</a><br> View project at: <a href='https://wandb.ai/lavkesh1709-maulana-azad-national-institute-of-technolog/polygon-coloring' target=\"_blank\">https://wandb.ai/lavkesh1709-maulana-azad-national-institute-of-technolog/polygon-coloring</a><br>Synced 5 W&B file(s), 0 media file(s), 1 artifact file(s) and 0 other file(s)"
            ]
          },
          "metadata": {}
        },
        {
          "output_type": "display_data",
          "data": {
            "text/plain": [
              "<IPython.core.display.HTML object>"
            ],
            "text/html": [
              "Find logs at: <code>./wandb/run-20250805_080843-y52tw9yd/logs</code>"
            ]
          },
          "metadata": {}
        }
      ]
    },
    {
      "cell_type": "code",
      "source": [
        "from skimage.metrics import structural_similarity as ssim\n",
        "import torch.nn.functional as F\n",
        "\n",
        "def evaluate_metrics(model, loader, device):\n",
        "    model.eval()\n",
        "    mse_total, mae_total, ssim_total = 0, 0, 0\n",
        "    count = 0\n",
        "\n",
        "    with torch.no_grad():\n",
        "        for inputs, _, targets in loader:  #\n",
        "            inputs, targets = inputs.to(device), targets.to(device)\n",
        "            outputs = model(inputs)\n",
        "\n",
        "            mse_total += F.mse_loss(outputs, targets, reduction='sum').item()\n",
        "            mae_total += F.l1_loss(outputs, targets, reduction='sum').item()\n",
        "\n",
        "            # Convert for SSIM\n",
        "            outputs_np = outputs.cpu().numpy().transpose(0,2,3,1)\n",
        "            targets_np = targets.cpu().numpy().transpose(0,2,3,1)\n",
        "            for i in range(outputs_np.shape[0]):\n",
        "                ssim_total += ssim(outputs_np[i], targets_np[i], channel_axis=2, data_range=1.0)\n",
        "            count += outputs.size(0)\n",
        "\n",
        "    mse_avg = mse_total / count\n",
        "    mae_avg = mae_total / count\n",
        "    ssim_avg = ssim_total / count\n",
        "    return mse_avg, mae_avg, ssim_avg\n"
      ],
      "metadata": {
        "id": "k6iJ4EF3WIhA"
      },
      "execution_count": 36,
      "outputs": []
    },
    {
      "cell_type": "code",
      "source": [
        "mse, mae, ssim_score = evaluate_metrics(model, val_loader, device)\n",
        "print(f\"Validation MSE: {mse:.4f}\")\n",
        "print(f\"Validation MAE: {mae:.4f}\")\n",
        "print(f\"Validation SSIM: {ssim_score:.4f}\")\n"
      ],
      "metadata": {
        "colab": {
          "base_uri": "https://localhost:8080/"
        },
        "id": "CwCKg-ce8mpn",
        "outputId": "d08981bc-1db8-413a-e3d8-52f6aeed5623"
      },
      "execution_count": 37,
      "outputs": [
        {
          "output_type": "stream",
          "name": "stdout",
          "text": [
            "Validation MSE: 1852.7514\n",
            "Validation MAE: 9217.8297\n",
            "Validation SSIM: 0.8370\n"
          ]
        }
      ]
    },
    {
      "cell_type": "code",
      "source": [
        "import matplotlib.pyplot as plt\n",
        "\n",
        "def show_predictions(model, loader, device, num_images=3):\n",
        "    model.eval()\n",
        "    inputs, _, targets = next(iter(loader))\n",
        "    inputs, targets = inputs.to(device), targets.to(device)\n",
        "\n",
        "    with torch.no_grad():\n",
        "        outputs = model(inputs)\n",
        "\n",
        "    for i in range(min(num_images, inputs.size(0))):\n",
        "        pred_img = outputs[i].cpu().permute(1, 2, 0).numpy()\n",
        "        target_img = targets[i].cpu().permute(1, 2, 0).numpy()\n",
        "        input_polygon = inputs[i, :3].cpu().permute(1, 2, 0).numpy()\n",
        "\n",
        "        fig, axs = plt.subplots(1, 3, figsize=(10, 4))\n",
        "        axs[0].imshow(input_polygon)\n",
        "        axs[0].set_title(\"Polygon Input\")\n",
        "\n",
        "        axs[1].imshow(target_img)\n",
        "        axs[1].set_title(\"Ground Truth\")\n",
        "\n",
        "        axs[2].imshow(pred_img)\n",
        "        axs[2].set_title(\"Model Prediction\")\n",
        "\n",
        "        for ax in axs:\n",
        "            ax.axis(\"off\")\n",
        "        plt.show()\n"
      ],
      "metadata": {
        "id": "MwspE48mWIez"
      },
      "execution_count": 38,
      "outputs": []
    },
    {
      "cell_type": "code",
      "source": [
        "show_predictions(model, val_loader, device, num_images=3)\n"
      ],
      "metadata": {
        "colab": {
          "base_uri": "https://localhost:8080/",
          "height": 1000
        },
        "id": "Fuf4Wt1hWIZq",
        "outputId": "310a5a9e-c5f5-4a2c-b4c9-8299448762ee"
      },
      "execution_count": 39,
      "outputs": [
        {
          "output_type": "stream",
          "name": "stderr",
          "text": [
            "Exception in thread QueueFeederThread:\n",
            "Traceback (most recent call last):\n",
            "  File \"/usr/lib/python3.11/multiprocessing/queues.py\", line 239, in _feed\n",
            "    reader_close()\n",
            "  File \"/usr/lib/python3.11/multiprocessing/connection.py\", line 178, in close\n",
            "    self._close()\n",
            "  File \"/usr/lib/python3.11/multiprocessing/connection.py\", line 377, in _close\n",
            "    _close(self._handle)\n",
            "OSError: [Errno 9] Bad file descriptor\n",
            "\n",
            "During handling of the above exception, another exception occurred:\n",
            "\n",
            "Traceback (most recent call last):\n",
            "  File \"/usr/lib/python3.11/threading.py\", line 1045, in _bootstrap_inner\n",
            "    self.run()\n",
            "  File \"/usr/lib/python3.11/threading.py\", line 982, in run\n",
            "    self._target(*self._args, **self._kwargs)\n",
            "  File \"/usr/lib/python3.11/multiprocessing/queues.py\", line 271, in _feed\n",
            "    queue_sem.release()\n",
            "ValueError: semaphore or lock released too many times\n"
          ]
        },
        {
          "output_type": "display_data",
          "data": {
            "text/plain": [
              "<Figure size 1000x400 with 3 Axes>"
            ],
            "image/png": "[encoded data removed]"
          },
          "metadata": {}
        },
        {
          "output_type": "display_data",
          "data": {
            "text/plain": [
              "<Figure size 1000x400 with 3 Axes>"
            ],
            "image/png": "[encoded data removed]"
          },
          "metadata": {}
        },
        {
          "output_type": "display_data",
          "data": {
            "text/plain": [
              "<Figure size 1000x400 with 3 Axes>"
            ],
            "image/png": "[encoded data removed]"
          },
          "metadata": {}
        }
      ]
    },
    {
      "cell_type": "code",
      "source": [],
      "metadata": {
        "id": "iUhvUY9GWIXd"
      },
      "execution_count": null,
      "outputs": []
    },
    {
      "cell_type": "code",
      "source": [],
      "metadata": {
        "id": "wtqdmGpxWIU_"
      },
      "execution_count": null,
      "outputs": []
    },
    {
      "cell_type": "code",
      "source": [],
      "metadata": {
        "id": "F2NRQY6wWISt"
      },
      "execution_count": null,
      "outputs": []
    }
  ]
}